{
 "cells": [
  {
   "cell_type": "code",
   "execution_count": 1,
   "id": "a2c4f225-1930-4c79-aca1-9d995e4a56c1",
   "metadata": {},
   "outputs": [],
   "source": [
    "import glob\n",
    "import os\n",
    "import sys\n",
    "import time\n",
    "import json\n",
    "import datetime\n",
    "\n",
    "try:\n",
    "    sys.path.append(glob.glob('../carla/dist/carla-*%d.%d-%s.egg' % (\n",
    "        sys.version_info.major,\n",
    "        sys.version_info.minor,\n",
    "        'win-amd64' if os.name == 'nt' else 'linux-x86_64'))[0])\n",
    "except IndexError:\n",
    "    pass\n",
    "\n",
    "import carla\n",
    "import argparse\n",
    "import logging\n",
    "import random\n",
    "import numpy as np\n",
    "import math"
   ]
  },
  {
   "cell_type": "code",
   "execution_count": 2,
   "id": "189788fb-58b5-470a-885d-2e80a87d743c",
   "metadata": {},
   "outputs": [],
   "source": [
    " # Initialize client and world\n",
    "client = carla.Client('localhost', 2000)\n",
    "client.set_timeout(2.0)\n",
    "world = client.get_world()\n",
    "\n",
    "# Define the blueprint for the rgb camera and obstacle detector\n",
    "blueprint_library = world.get_blueprint_library()\n",
    "camera_bp = blueprint_library.find('sensor.camera.rgb')\n",
    "obstacle_bp = blueprint_library.find('sensor.other.obstacle')\n",
    "ss_bp = world.get_blueprint_library().find('sensor.camera.semantic_segmentation')\n",
    "\n",
    "# Adjust sensor settings if necessary\n",
    "camera_bp.set_attribute('image_size_x', '120')\n",
    "camera_bp.set_attribute('image_size_y', '120')\n",
    "camera_bp.set_attribute('fov', '90')\n",
    "camera_bp.set_attribute('sensor_tick','1')\n",
    "obstacle_bp.set_attribute('only_dynamics','True')\n",
    "obstacle_bp.set_attribute('distance', '5')\n",
    "obstacle_bp.set_attribute('hit_radius','1.0')"
   ]
  },
  {
   "cell_type": "code",
   "execution_count": 10,
   "id": "3584c62c-b379-47fa-95f2-6c75db8548e8",
   "metadata": {},
   "outputs": [
    {
     "name": "stdout",
     "output_type": "stream",
     "text": [
      "Num spawn points: 255\n",
      "\n",
      "Ego is spawned\n"
     ]
    }
   ],
   "source": [
    "# Spawn ego agent\n",
    "ego_bp = world.get_blueprint_library().find('vehicle.tesla.model3')\n",
    "ego_bp.set_attribute('role_name','ego')\n",
    "ego_color = random.choice(ego_bp.get_attribute('color').recommended_values)\n",
    "ego_bp.set_attribute('color',ego_color)\n",
    "\n",
    "spawn_points = world.get_map().get_spawn_points()\n",
    "number_of_spawn_points = len(spawn_points)\n",
    "print(f\"Num spawn points: {number_of_spawn_points}\")\n",
    "\n",
    "if 0 < number_of_spawn_points:\n",
    "    random.shuffle(spawn_points)\n",
    "    ego_transform = spawn_points[0]\n",
    "    ego_vehicle = world.spawn_actor(ego_bp,ego_transform)\n",
    "    print('\\nEgo is spawned')\n",
    "else:\n",
    "    logging.warning('Could not found any spawn points')"
   ]
  },
  {
   "cell_type": "code",
   "execution_count": 11,
   "id": "752c4024-f8a1-4c24-825c-0fbe31ffafac",
   "metadata": {},
   "outputs": [],
   "source": [
    "# Spawn spectator camera\n",
    "def calculate_spectator_transform(vehicle_transform, offset=(-10, 0, 5), rotation_offset=(0, 0, 0)):\n",
    "    \"\"\"\n",
    "    Calculate the spectator transform based on the vehicle transform.\n",
    "    \n",
    "    :param vehicle_transform: The transform of the vehicle.\n",
    "    :param offset: A tuple of (x, y, z) offsets relative to the vehicle.\n",
    "    :param rotation_offset: A tuple of (pitch, yaw, roll) rotation offsets.\n",
    "    :return: The calculated transform for the spectator.\n",
    "    \"\"\"\n",
    "    # Extract the vehicle location and rotation\n",
    "    vehicle_location = vehicle_transform.location\n",
    "    vehicle_rotation = vehicle_transform.rotation\n",
    "    \n",
    "    # Convert the vehicle rotation to radians\n",
    "    pitch_rad = math.radians(vehicle_rotation.pitch)\n",
    "    yaw_rad = math.radians(vehicle_rotation.yaw)\n",
    "    roll_rad = math.radians(vehicle_rotation.roll)\n",
    "    \n",
    "    # Calculate the forward vector\n",
    "    cos_pitch, cos_yaw = math.cos(pitch_rad), math.cos(yaw_rad)\n",
    "    sin_pitch, sin_yaw = math.sin(pitch_rad), math.sin(yaw_rad)\n",
    "    fwd_vector = carla.Vector3D(x=cos_pitch * cos_yaw, y=cos_pitch * sin_yaw, z=sin_pitch)\n",
    "    \n",
    "    # Calculate the new location using the forward vector\n",
    "    offset_location = carla.Location(\n",
    "        x=vehicle_location.x + offset[0] * fwd_vector.x,\n",
    "        y=vehicle_location.y + offset[0] * fwd_vector.y,\n",
    "        z=vehicle_location.z + offset[2]\n",
    "    )\n",
    "    \n",
    "    # Apply rotation offset to the vehicle rotation\n",
    "    spectator_rotation = carla.Rotation(\n",
    "        pitch=vehicle_rotation.pitch + rotation_offset[0],\n",
    "        yaw=vehicle_rotation.yaw + rotation_offset[1],\n",
    "        roll=vehicle_rotation.roll + rotation_offset[2]\n",
    "    )\n",
    "    \n",
    "    # Create the spectator transform\n",
    "    spectator_transform = carla.Transform(offset_location, spectator_rotation)\n",
    "    \n",
    "    return spectator_transform\n",
    "\n",
    "# Get the ego vehicle's transform\n",
    "spectator_transform = calculate_spectator_transform(ego_vehicle.get_transform(),\n",
    "                                                   offset=(-6, 0, 2.5), \n",
    "                                                    rotation_offset=(-10, 0, 0))\n",
    "spectator = world.get_spectator()\n",
    "spectator.set_transform(spectator_transform)"
   ]
  },
  {
   "cell_type": "code",
   "execution_count": 12,
   "id": "d8f65837-f2fe-4cb7-910f-fdf2ef0cb5e4",
   "metadata": {},
   "outputs": [],
   "source": [
    "ego_vehicle.set_autopilot(True, 5000)"
   ]
  },
  {
   "cell_type": "code",
   "execution_count": 13,
   "id": "ca287ba7-9df0-474b-a85d-a18debdb450c",
   "metadata": {},
   "outputs": [
    {
     "ename": "KeyboardInterrupt",
     "evalue": "",
     "output_type": "error",
     "traceback": [
      "\u001b[0;31m---------------------------------------------------------------------------\u001b[0m",
      "\u001b[0;31mKeyboardInterrupt\u001b[0m                         Traceback (most recent call last)",
      "Cell \u001b[0;32mIn[13], line 13\u001b[0m\n\u001b[1;32m      6\u001b[0m \u001b[38;5;66;03m# --------------\u001b[39;00m\n\u001b[1;32m      7\u001b[0m \u001b[38;5;66;03m# Place spectator on ego spawning\u001b[39;00m\n\u001b[1;32m      8\u001b[0m \u001b[38;5;66;03m# --------------\u001b[39;00m\n\u001b[1;32m      9\u001b[0m \u001b[38;5;66;03m# Get the ego vehicle's transform\u001b[39;00m\n\u001b[1;32m     10\u001b[0m spectator_transform \u001b[38;5;241m=\u001b[39m calculate_spectator_transform(ego_vehicle\u001b[38;5;241m.\u001b[39mget_transform(),\n\u001b[1;32m     11\u001b[0m                                                    offset\u001b[38;5;241m=\u001b[39m(\u001b[38;5;241m-\u001b[39m\u001b[38;5;241m6\u001b[39m, \u001b[38;5;241m0\u001b[39m, \u001b[38;5;241m2.5\u001b[39m), \n\u001b[1;32m     12\u001b[0m                                                     rotation_offset\u001b[38;5;241m=\u001b[39m(\u001b[38;5;241m-\u001b[39m\u001b[38;5;241m10\u001b[39m, \u001b[38;5;241m0\u001b[39m, \u001b[38;5;241m0\u001b[39m))\n\u001b[0;32m---> 13\u001b[0m spectator \u001b[38;5;241m=\u001b[39m \u001b[43mworld\u001b[49m\u001b[38;5;241;43m.\u001b[39;49m\u001b[43mget_spectator\u001b[49m\u001b[43m(\u001b[49m\u001b[43m)\u001b[49m\n\u001b[1;32m     14\u001b[0m spectator\u001b[38;5;241m.\u001b[39mset_transform(spectator_transform)\n",
      "\u001b[0;31mKeyboardInterrupt\u001b[0m: "
     ]
    }
   ],
   "source": [
    " # --------------\n",
    "# Game loop. Prevents the script from finishing.\n",
    "# --------------\n",
    "while True:\n",
    "    world_snapshot = world.wait_for_tick()\n",
    "    # --------------\n",
    "    # Place spectator on ego spawning\n",
    "    # --------------\n",
    "    # Get the ego vehicle's transform\n",
    "    spectator_transform = calculate_spectator_transform(ego_vehicle.get_transform(),\n",
    "                                                       offset=(-6, 0, 2.5), \n",
    "                                                        rotation_offset=(-10, 0, 0))\n",
    "    spectator = world.get_spectator()\n",
    "    spectator.set_transform(spectator_transform)"
   ]
  },
  {
   "cell_type": "code",
   "execution_count": 14,
   "id": "227190b6-8f1d-443e-a3e2-430a301d67c1",
   "metadata": {},
   "outputs": [],
   "source": [
    "def clean_up():\n",
    "    client.stop_recorder()\n",
    "    if ego_vehicle is not None:\n",
    "        # if ego_cam is not None:\n",
    "        #     ego_cam.stop()\n",
    "        #     ego_cam.destroy()\n",
    "        # if ego_col is not None:\n",
    "        #     ego_col.stop()\n",
    "        #     ego_col.destroy()\n",
    "        # if ego_lane is not None:\n",
    "        #     ego_lane.stop()\n",
    "        #     ego_lane.destroy()\n",
    "        # if ego_obs is not None:\n",
    "        #     ego_obs.stop()\n",
    "        #     ego_obs.destroy()\n",
    "        # if ego_gnss is not None:\n",
    "        #     ego_gnss.stop()\n",
    "        #     ego_gnss.destroy()\n",
    "        # if ego_imu is not None:\n",
    "        #     ego_imu.stop()\n",
    "        #     ego_imu.destroy()\n",
    "        ego_vehicle.destroy()\n",
    "clean_up()"
   ]
  },
  {
   "cell_type": "code",
   "execution_count": null,
   "id": "faf7a073-1513-466e-927c-57c65a8b5a96",
   "metadata": {},
   "outputs": [],
   "source": []
  }
 ],
 "metadata": {
  "kernelspec": {
   "display_name": "carla",
   "language": "python",
   "name": "carla"
  },
  "language_info": {
   "codemirror_mode": {
    "name": "ipython",
    "version": 3
   },
   "file_extension": ".py",
   "mimetype": "text/x-python",
   "name": "python",
   "nbconvert_exporter": "python",
   "pygments_lexer": "ipython3",
   "version": "3.8.18"
  }
 },
 "nbformat": 4,
 "nbformat_minor": 5
}
